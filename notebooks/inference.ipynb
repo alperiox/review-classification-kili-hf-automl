{
 "cells": [
  {
   "cell_type": "code",
   "execution_count": 60,
   "metadata": {},
   "outputs": [],
   "source": [
    "from transformers import RobertaForSequenceClassification, AutoTokenizer\n",
    "\n",
    "from transformers import logging\n",
    "logging.set_verbosity_error()\n",
    "\n",
    "import torch\n",
    "\n",
    "import numpy as np\n",
    "\n",
    "idx_to_label = {0: 'CONTENT', 1: 'USER_EXPERIENCE', 2: 'SUBSCRIPTION', 3: 'INTERFACE'}"
   ]
  },
  {
   "cell_type": "code",
   "execution_count": 25,
   "metadata": {},
   "outputs": [],
   "source": [
    "# it is also possible to load the models by using AutoModel\n",
    "# but using RobertaForSequenceClassification is more convenient and understandable \n",
    "# because we are using a fine-tuned RoBERTa model\n",
    "model_20 = RobertaForSequenceClassification.from_pretrained('../models/review-classification-roberta-20-trials')\n",
    "model_40 = RobertaForSequenceClassification.from_pretrained('../models/review-classification-roberta-40-trials')"
   ]
  },
  {
   "cell_type": "code",
   "execution_count": 39,
   "metadata": {},
   "outputs": [],
   "source": [
    "# we trained both models with same tokenizer, it doesn't matter which one we pick\n",
    "tokenizer = AutoTokenizer.from_pretrained('../models/review-classification-roberta-20-trials')"
   ]
  },
  {
   "cell_type": "code",
   "execution_count": 64,
   "metadata": {},
   "outputs": [
    {
     "name": "stdout",
     "output_type": "stream",
     "text": [
      "['USER_EXPERIENCE', 'INTERFACE']\n",
      "['USER_EXPERIENCE', 'INTERFACE']\n"
     ]
    }
   ],
   "source": [
    "def predict_20(texts):\n",
    "    if type(texts)==str:\n",
    "        texts = [texts]\n",
    "\n",
    "    tokenized = tokenizer(texts, truncation=True, padding=True, return_tensors='pt')\n",
    "    \n",
    "    with torch.no_grad():\n",
    "        output_logits = model_20(**tokenized).logits\n",
    "\n",
    "    predictions = torch.argmax(output_logits, dim=-1).numpy()\n",
    "\n",
    "    labeled_preds = [idx_to_label[prediction] for prediction in predictions]\n",
    "    return labeled_preds\n",
    "\n",
    "def predict_40(texts):\n",
    "    if type(texts)==str:\n",
    "            texts = [texts]\n",
    "\n",
    "    tokenized = tokenizer(texts, truncation=True, padding=True, return_tensors='pt')\n",
    "    \n",
    "    with torch.no_grad():\n",
    "        output_logits = model_40(**tokenized).logits\n",
    "\n",
    "    predictions = torch.argmax(output_logits, dim=-1).numpy()\n",
    "\n",
    "    labeled_preds = [idx_to_label[prediction] for prediction in predictions]\n",
    "    return labeled_preds\n",
    "\n",
    "\n",
    "\n",
    "preds_20 = predict_20(['it is a disgusting app', 'Easy to use, interface is awesome'])\n",
    "preds_40 = predict_40(['it is a disgusting app', 'Easy to use, interface is awesome'])\n",
    "\n",
    "print(preds_20)\n",
    "print(preds_40)"
   ]
  }
 ],
 "metadata": {
  "interpreter": {
   "hash": "2b7055b19be1f905b942e6752a43ac88c3a2a1210d95aaa41a1b1dca2242ddc4"
  },
  "kernelspec": {
   "display_name": "Python 3.8.8 64-bit (system)",
   "language": "python",
   "name": "python3"
  },
  "language_info": {
   "codemirror_mode": {
    "name": "ipython",
    "version": 3
   },
   "file_extension": ".py",
   "mimetype": "text/x-python",
   "name": "python",
   "nbconvert_exporter": "python",
   "pygments_lexer": "ipython3",
   "version": "3.8.8"
  },
  "orig_nbformat": 4
 },
 "nbformat": 4,
 "nbformat_minor": 2
}
